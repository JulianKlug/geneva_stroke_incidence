{
 "cells": [
  {
   "metadata": {},
   "cell_type": "markdown",
   "source": [
    "# Identification of variables associated with ICD-11 diagnosis \n",
    "\n",
    "vs variables associated with ICD-10 diagnosis"
   ],
   "id": "11df1416448af666"
  },
  {
   "cell_type": "code",
   "id": "initial_id",
   "metadata": {
    "collapsed": true
   },
   "source": [
    "import pandas as pd\n",
    "import statsmodels.api as sm\n",
    "import seaborn as sns\n",
    "import matplotlib.pyplot as plt"
   ],
   "outputs": [],
   "execution_count": null
  },
  {
   "metadata": {},
   "cell_type": "code",
   "source": "data_path = '/Users/jk1/Library/CloudStorage/OneDrive-unige.ch/stroke_research/geneva_stroke_incidence/data/PPGSS_3_ICD10vsICD11.xlsx'",
   "id": "e72a803d00dd52cb",
   "outputs": [],
   "execution_count": null
  },
  {
   "metadata": {},
   "cell_type": "code",
   "source": "df = pd.read_excel(data_path)",
   "id": "d0d68de606e996c5",
   "outputs": [],
   "execution_count": null
  },
  {
   "metadata": {},
   "cell_type": "code",
   "source": "df.head()",
   "id": "7a2c2f8ec78690ff",
   "outputs": [],
   "execution_count": null
  },
  {
   "metadata": {},
   "cell_type": "code",
   "source": [
    "# replace all empty spaces in column names with \"\"\n",
    "df.columns = df.columns.str.replace(' ', '')\n",
    "# remove . from column names\n",
    "df.columns = df.columns.str.replace('.', '')\n",
    "\n",
    "# rename Prestrokedisability(Rankin) to PreStrokeDisability\n",
    "df.rename(columns={'Prestrokedisability(Rankin)': 'PreStrokeDisability'}, inplace=True)\n",
    "df.rename(columns={'Age(calc)': 'Age'}, inplace=True)"
   ],
   "id": "caf8dfb60a760c40",
   "outputs": [],
   "execution_count": null
  },
  {
   "metadata": {},
   "cell_type": "code",
   "source": [
    "predictors = [\n",
    "    \"Age\",\n",
    "\"Sex\",\n",
    "\"PreStrokeDisability\",\n",
    "\"NIHonadmission\",\n",
    "\"MedHistHypertension\",\n",
    "\"MedHistDiabetes\",\n",
    "\"MedHistSmoking\",\n",
    "# \"MedHistAtrialFibr\",\n",
    "\"MedHistCHD\",\n",
    "#     etiology should probably not be used (because known very colinear with medhistatrialfibr)\n",
    "\"Etiology\"\n",
    "              ]\n"
   ],
   "id": "aad8aa83c09da8a3",
   "outputs": [],
   "execution_count": null
  },
  {
   "metadata": {},
   "cell_type": "code",
   "source": "df['ICD10vsICD11'].value_counts()",
   "id": "4f932d83088059fc",
   "outputs": [],
   "execution_count": null
  },
  {
   "metadata": {},
   "cell_type": "code",
   "source": "f'ICD10vsICD11 ~ {\" + \".join(predictors)}'",
   "id": "f3538c181c3e3ff1",
   "outputs": [],
   "execution_count": null
  },
  {
   "metadata": {},
   "cell_type": "code",
   "source": [
    "from patsy.highlevel import dmatrices\n",
    "\n",
    "y,X = dmatrices(f'ICD10vsICD11 ~ {\" + \".join(predictors)}', data = df, return_type = 'dataframe') "
   ],
   "id": "20d3ceb944e2d28a",
   "outputs": [],
   "execution_count": null
  },
  {
   "metadata": {},
   "cell_type": "code",
   "source": [
    "# Logistic regression with ICD10vsICD11 as dependent variable and predictors as independent variables\n",
    "\n",
    "model = sm.Logit(y['ICD10vsICD11[ICD11]'], X)\n",
    "result = model.fit()"
   ],
   "id": "d0a698fc843eea57",
   "outputs": [],
   "execution_count": null
  },
  {
   "metadata": {},
   "cell_type": "code",
   "source": "print(result.summary())",
   "id": "896620eb0bc5dc70",
   "outputs": [],
   "execution_count": null
  },
  {
   "metadata": {},
   "cell_type": "code",
   "source": "result.pvalues[-1]",
   "id": "ba3d1bbbd2b63e52",
   "outputs": [],
   "execution_count": null
  },
  {
   "metadata": {},
   "cell_type": "code",
   "source": "result.conf_int().reset_index()[0]",
   "id": "1463211e055c6942",
   "outputs": [],
   "execution_count": null
  },
  {
   "metadata": {},
   "cell_type": "code",
   "source": [
    "# get all coefficients as a dataframe, along with std, z and confidence intervals \n",
    "coefficients = result.params.to_frame().reset_index()\n",
    "\n",
    "coefficients['std'] = result.bse.to_frame().reset_index()[0]\n",
    "coefficients['z'] = result.tvalues.to_frame().reset_index()[0]\n",
    "\n",
    "coefficients['CI_low'] = result.conf_int().reset_index()[0]\n",
    "coefficients['CI_high'] = result.conf_int().reset_index()[1]\n",
    "\n",
    "coefficients.columns = ['Predictor', 'Coefficient', 'std', 'z', 'CI_low', 'CI_high']\n"
   ],
   "id": "6841d10968cb676c",
   "outputs": [],
   "execution_count": null
  },
  {
   "metadata": {},
   "cell_type": "code",
   "source": "coefficients",
   "id": "4dd84b5d3436f5b5",
   "outputs": [],
   "execution_count": null
  },
  {
   "metadata": {},
   "cell_type": "code",
   "source": "# coefficients.to_excel('/Users/jk1/Downloads/ICD11_predictors.xlsx')",
   "id": "ad40211c36489aa4",
   "outputs": [],
   "execution_count": null
  },
  {
   "metadata": {},
   "cell_type": "code",
   "source": [
    "# frequency of MedHistAtrialFibr for ICD10 vs ICD11\n",
    "df.groupby('ICD10vsICD11')['Etiology'].value_counts(normalize=True)"
   ],
   "id": "c733211e551d9a68",
   "outputs": [],
   "execution_count": null
  },
  {
   "metadata": {},
   "cell_type": "code",
   "source": [
    "fig = plt.figure(figsize=(10, 10))\n",
    "\n",
    "# create a boxplot for NIHonadmission for both ICD10 and ICD11\n",
    "ax = sns.boxplot(x='ICD10vsICD11', y='NIHonadmission', data=df, showfliers=False, hue='ICD10vsICD11')\n",
    "\n",
    "ax.set_ylabel('NIH on admission')\n",
    "ax.set_xlabel('ICD10 vs ICD11')\n",
    "\n",
    "# add bar with p-value\n",
    "x1, x2 = 0, 1\n",
    "y_max = 19\n",
    "y, h, col = y_max + y_max/50, y_max/50, 'k'\n",
    "plt.plot([x1, x1, x2, x2], [y, y+h, y+h, y], lw=1.5, c=col)\n",
    "plt.text((x1+x2)*.5, y+h, f'p < 0.0001', ha='center', va='bottom', color=col)\n"
   ],
   "id": "b65b4500ad775e87",
   "outputs": [],
   "execution_count": null
  },
  {
   "metadata": {},
   "cell_type": "code",
   "source": "# fig.savefig('/Users/jk1/Downloads/ICD10vsICD11_NIH_on_admission.png')",
   "id": "833e282d24d59953",
   "outputs": [],
   "execution_count": null
  },
  {
   "metadata": {},
   "cell_type": "code",
   "source": [
    "# get median and IQR for both categories\n",
    "df.groupby('ICD10vsICD11')['NIHonadmission'].describe()"
   ],
   "id": "256d57700dda2d7f",
   "outputs": [],
   "execution_count": null
  },
  {
   "metadata": {},
   "cell_type": "code",
   "source": [
    "# make a boxplot with NIHonadmission for with ICD10 vs all patients\n",
    "\n",
    "fig = plt.figure(figsize=(10, 10))\n",
    "\n",
    "ICD10_df = df[df['ICD10'] == 1]\n",
    "ICD10_df['cat'] = 'ICD10'\n",
    "ICD11_df = df[df['ICD11'] == 1]\n",
    "ICD11_df['cat'] = 'ICD11'\n",
    "\n",
    "temp_df = pd.concat([ICD10_df, ICD11_df])\n",
    "temp_df.reset_index(inplace=True)\n",
    "\n",
    "ax = sns.boxplot(x='cat', y='NIHonadmission', data=temp_df, showfliers=False, hue='cat')"
   ],
   "id": "85ce706ba5d9dcf0",
   "outputs": [],
   "execution_count": null
  },
  {
   "metadata": {},
   "cell_type": "markdown",
   "source": "",
   "id": "a3010ecfddffbab9"
  },
  {
   "metadata": {},
   "cell_type": "code",
   "source": "# fig.savefig('/Users/jk1/Downloads/ICD10vsICD11_NIH_on_admission.png')",
   "id": "f4234cb5edf3b9f5",
   "outputs": [],
   "execution_count": null
  },
  {
   "metadata": {},
   "cell_type": "code",
   "source": [
    "# get median and IQR for both categories\n",
    "temp_df.groupby('cat')['NIHonadmission'].describe()"
   ],
   "id": "474a12e4f9a05ae3",
   "outputs": [],
   "execution_count": null
  },
  {
   "metadata": {},
   "cell_type": "markdown",
   "source": [
    "### Test whole group vs subgroup\n",
    "instead of subgroup ICD10 vs subgroup ICD11-ICD10  "
   ],
   "id": "bdea6b59b5f42618"
  },
  {
   "metadata": {},
   "cell_type": "code",
   "source": [
    "import os\n",
    "os.environ[\"R_HOME\"] = \"/Library/Frameworks/R.framework/Resources\"\n",
    "from pymer4.models import Lmer\n",
    "\n",
    "model = Lmer(f'ICD10  ~  {\" + \".join(predictors)} + (1|ID)',\n",
    "             data=df, family = 'binomial')"
   ],
   "id": "706656c019942b10",
   "outputs": [],
   "execution_count": null
  },
  {
   "metadata": {},
   "cell_type": "code",
   "source": "model.fit()",
   "id": "195c50cfefe2d242",
   "outputs": [],
   "execution_count": null
  },
  {
   "metadata": {},
   "cell_type": "code",
   "source": "model.coefs",
   "id": "539ccf580bc9e16f",
   "outputs": [],
   "execution_count": null
  },
  {
   "metadata": {},
   "cell_type": "code",
   "source": "# model.coefs.to_excel('/Users/jk1/Downloads/mixed_effects_ICD10_predictors.xlsx')",
   "id": "ae18d022a9dc69e8",
   "outputs": [],
   "execution_count": null
  },
  {
   "metadata": {},
   "cell_type": "code",
   "source": [
    "# boxplot age vs cat in temp_df\n",
    "\n",
    "fig = plt.figure(figsize=(10, 10))\n",
    "\n",
    "ax = sns.boxplot(x='cat', y='Age', data=temp_df, showfliers=False, hue='cat')\n"
   ],
   "id": "4fff0fc8c4bc0fc3",
   "outputs": [],
   "execution_count": null
  },
  {
   "metadata": {},
   "cell_type": "code",
   "source": "temp_df.groupby('cat')['Age'].describe()",
   "id": "c5215df2409a3bb3",
   "outputs": [],
   "execution_count": null
  },
  {
   "metadata": {},
   "cell_type": "code",
   "source": "temp_df.groupby('cat')['Etiology'].value_counts(normalize=True)",
   "id": "2194bffb28f06bb4",
   "outputs": [],
   "execution_count": null
  },
  {
   "metadata": {},
   "cell_type": "code",
   "source": "",
   "id": "35d3c8e588f7a02e",
   "outputs": [],
   "execution_count": null
  }
 ],
 "metadata": {
  "kernelspec": {
   "display_name": "Python 3",
   "language": "python",
   "name": "python3"
  },
  "language_info": {
   "codemirror_mode": {
    "name": "ipython",
    "version": 2
   },
   "file_extension": ".py",
   "mimetype": "text/x-python",
   "name": "python",
   "nbconvert_exporter": "python",
   "pygments_lexer": "ipython2",
   "version": "2.7.6"
  }
 },
 "nbformat": 4,
 "nbformat_minor": 5
}

{
 "cells": [
  {
   "cell_type": "code",
   "id": "initial_id",
   "metadata": {
    "collapsed": true
   },
   "source": [
    "import pandas as pd\n",
    "import statsmodels.api as sm\n",
    "import seaborn as sns\n",
    "import matplotlib.pyplot as plt"
   ],
   "outputs": [],
   "execution_count": null
  },
  {
   "metadata": {},
   "cell_type": "code",
   "source": "data_path = '/Users/jk1/Library/CloudStorage/OneDrive-unige.ch/stroke_research/geneva_stroke_incidence/data/PPGSS_3_ICD10vsICD11.xlsx'",
   "id": "ac7446f3adf475dc",
   "outputs": [],
   "execution_count": null
  },
  {
   "metadata": {},
   "cell_type": "code",
   "source": "df = pd.read_excel(data_path)",
   "id": "2a3a8f0a986c50cc",
   "outputs": [],
   "execution_count": null
  },
  {
   "metadata": {},
   "cell_type": "code",
   "source": "df.head()",
   "id": "38714b958aee64a4",
   "outputs": [],
   "execution_count": null
  },
  {
   "metadata": {},
   "cell_type": "code",
   "source": "outcome = '3M StrokeICH'",
   "id": "1d8ffc1e4ee4c16f",
   "outputs": [],
   "execution_count": null
  },
  {
   "metadata": {},
   "cell_type": "code",
   "source": "df.dropna(subset=[outcome], inplace=True)",
   "id": "7e9664f45f715521",
   "outputs": [],
   "execution_count": null
  },
  {
   "metadata": {},
   "cell_type": "code",
   "source": [
    "# binarize outcome\n",
    "if outcome == '3M StrokeICH':\n",
    "    df[outcome] = df[outcome].apply(lambda x: 1 if x == 'yes' else 0)"
   ],
   "id": "f3e57cf3bdc17841",
   "outputs": [],
   "execution_count": null
  },
  {
   "metadata": {},
   "cell_type": "code",
   "source": [
    "X = df[['ICD10']]\n",
    "X = sm.add_constant(X)\n",
    "y = df[outcome].astype(int)"
   ],
   "id": "8214e4f97d598dbd",
   "outputs": [],
   "execution_count": null
  },
  {
   "metadata": {},
   "cell_type": "code",
   "source": "model = sm.Logit(y, X)",
   "id": "3b3fc2e7cbbb65ef",
   "outputs": [],
   "execution_count": null
  },
  {
   "metadata": {},
   "cell_type": "code",
   "source": "result = model.fit()",
   "id": "7431e785bc7edadb",
   "outputs": [],
   "execution_count": null
  },
  {
   "metadata": {},
   "cell_type": "code",
   "source": "result.summary()",
   "id": "b10793c7d20d889e",
   "outputs": [],
   "execution_count": null
  },
  {
   "metadata": {},
   "cell_type": "code",
   "source": [
    "# get all coefficients as a dataframe, along with std, z and confidence intervals \n",
    "coefficients = result.params.to_frame().reset_index()\n",
    "\n",
    "coefficients['std'] = result.bse.to_frame().reset_index()[0]\n",
    "coefficients['z'] = result.tvalues.to_frame().reset_index()[0]\n",
    "\n",
    "coefficients['CI_low'] = result.conf_int().reset_index()[0]\n",
    "coefficients['CI_high'] = result.conf_int().reset_index()[1]\n",
    "\n",
    "coefficients.columns = ['Predictor', 'Coefficient', 'std', 'z', 'CI_low', 'CI_high']"
   ],
   "id": "21f5acd46e0d18d9",
   "outputs": [],
   "execution_count": null
  },
  {
   "metadata": {},
   "cell_type": "code",
   "source": "coefficients",
   "id": "bda94bf3a880c77b",
   "outputs": [],
   "execution_count": null
  },
  {
   "metadata": {},
   "cell_type": "code",
   "source": "# coefficients.to_excel(f'/Users/jk1/Downloads/ICD10_vs_{outcome}.xlsx')",
   "id": "d2e0492e3e794b18",
   "outputs": [],
   "execution_count": null
  },
  {
   "metadata": {},
   "cell_type": "code",
   "source": "result.pvalues",
   "id": "531d5c85df0d3334",
   "outputs": [],
   "execution_count": null
  },
  {
   "metadata": {},
   "cell_type": "code",
   "source": [
    "fig = plt.figure(figsize=(10, 6))\n",
    "\n",
    "# create a barchart of the outcome variable by the ICD10 code\n",
    "ax = sns.barplot(x='ICD10', y=outcome, data=df, ci=None, hue='ICD10', legend=False)\n",
    "\n",
    "# add bar with pvalue\n",
    "x1, x2 = 0, 1\n",
    "y, h, col = 0.18 + 0.01, 0.01, 'k'\n",
    "plt.plot([x1, x1, x2, x2], [y, y+h, y+h, y], lw=1.5, c=col)\n",
    "plt.text((x1+x2)*.5, y+h, f'p={result.pvalues[-1]:.4f}', ha='center', va='bottom', color=col)"
   ],
   "id": "cf0fd20a6bd00a48",
   "outputs": [],
   "execution_count": null
  },
  {
   "metadata": {},
   "cell_type": "code",
   "source": "df.groupby('ICD10')[outcome].value_counts(normalize=True)",
   "id": "d9667630a7241e9c",
   "outputs": [],
   "execution_count": null
  },
  {
   "metadata": {},
   "cell_type": "code",
   "source": "# fig.savefig(f'/Users/jk1/Downloads/{outcome}_vs_ICD10.png')",
   "id": "eef8ee0d82105e18",
   "outputs": [],
   "execution_count": null
  },
  {
   "metadata": {},
   "cell_type": "code",
   "source": [
    "# make a boxplot with NIHonadmission for with ICD10 vs all patients\n",
    "\n",
    "fig = plt.figure(figsize=(10, 10))\n",
    "\n",
    "ICD10_df = df[df['ICD10'] == 1]\n",
    "ICD10_df['cat'] = 'ICD10'\n",
    "ICD11_df = df[df['ICD11'] == 1]\n",
    "ICD11_df['cat'] = 'ICD11'\n",
    "\n",
    "temp_df = pd.concat([ICD10_df, ICD11_df])\n",
    "temp_df.reset_index(inplace=True)\n",
    "\n",
    "ax = sns.barplot(x='cat', y=outcome, data=temp_df, ci=None, hue='cat', legend=False)"
   ],
   "id": "d9de888cb7407460",
   "outputs": [],
   "execution_count": null
  },
  {
   "metadata": {},
   "cell_type": "code",
   "source": [
    "# get median and IQR for both categories\n",
    "temp_df.groupby('cat')[outcome].value_counts(normalize=True)"
   ],
   "id": "fac7b6399e39c603",
   "outputs": [],
   "execution_count": null
  },
  {
   "metadata": {},
   "cell_type": "markdown",
   "source": [
    "### Test whole group vs subgroup\n",
    "instead of subgroup ICD10 vs subgroup ICD11-ICD10  "
   ],
   "id": "b5f7bd3b15a64474"
  },
  {
   "metadata": {},
   "cell_type": "code",
   "source": "df.head()",
   "id": "e1ea8d5946ace0e7",
   "outputs": [],
   "execution_count": null
  },
  {
   "metadata": {},
   "cell_type": "code",
   "source": "outcome",
   "id": "e549e2e52772e06f",
   "outputs": [],
   "execution_count": null
  },
  {
   "metadata": {},
   "cell_type": "code",
   "source": [
    "# remove space in outcome \n",
    "df.rename(columns={outcome: outcome.replace(' ', '')}, inplace=True)\n",
    "outcome = outcome.replace(' ', '')\n",
    "if outcome == '3MStrokeICH':\n",
    "    df.rename(columns={outcome: 'recurrence_90d'}, inplace=True)\n",
    "    outcome = 'recurrence_90d'"
   ],
   "id": "28d992882e31980c",
   "outputs": [],
   "execution_count": null
  },
  {
   "metadata": {},
   "cell_type": "code",
   "source": "df.groupby('ICD10vsICD11')[outcome].value_counts(normalize=True)",
   "id": "f4887ab767674361",
   "outputs": [],
   "execution_count": null
  },
  {
   "metadata": {},
   "cell_type": "code",
   "source": [
    "import os\n",
    "os.environ[\"R_HOME\"] = \"/Library/Frameworks/R.framework/Resources\"\n",
    "from pymer4.models import Lmer\n",
    "\n",
    "model = Lmer(f\"{outcome}  ~ ICD10  + (1|ID)\",\n",
    "             data=df, family = 'binomial')\n"
   ],
   "id": "e01f95ea6802b985",
   "outputs": [],
   "execution_count": null
  },
  {
   "metadata": {},
   "cell_type": "code",
   "source": "model.fit()",
   "id": "f92475e2fbcb5066",
   "outputs": [],
   "execution_count": null
  },
  {
   "metadata": {},
   "cell_type": "code",
   "source": "model.coefs['P-val'][1]",
   "id": "6cde2fc619230b66",
   "outputs": [],
   "execution_count": null
  },
  {
   "metadata": {},
   "cell_type": "code",
   "source": "# model.coefs.to_excel(f'/Users/jk1/Downloads/mixed_effects_ICD10_vs_{outcome}.xlsx')",
   "id": "9bd32e7d304fa7f1",
   "outputs": [],
   "execution_count": null
  },
  {
   "metadata": {},
   "cell_type": "code",
   "source": "",
   "id": "a851066a51a51542",
   "outputs": [],
   "execution_count": null
  }
 ],
 "metadata": {
  "kernelspec": {
   "display_name": "Python 3",
   "language": "python",
   "name": "python3"
  },
  "language_info": {
   "codemirror_mode": {
    "name": "ipython",
    "version": 2
   },
   "file_extension": ".py",
   "mimetype": "text/x-python",
   "name": "python",
   "nbconvert_exporter": "python",
   "pygments_lexer": "ipython2",
   "version": "2.7.6"
  }
 },
 "nbformat": 4,
 "nbformat_minor": 5
}

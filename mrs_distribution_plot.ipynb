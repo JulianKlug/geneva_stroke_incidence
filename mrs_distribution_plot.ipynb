{
 "cells": [
  {
   "cell_type": "code",
   "id": "initial_id",
   "metadata": {
    "collapsed": true
   },
   "source": [
    "import pandas as pd\n",
    "import seaborn as sns\n",
    "import matplotlib.pyplot as plt\n",
    "from patsy.util import widen"
   ],
   "outputs": [],
   "execution_count": null
  },
  {
   "metadata": {},
   "cell_type": "code",
   "source": "data_path = '/Users/jk1/Library/CloudStorage/OneDrive-unige.ch/stroke_research/geneva_stroke_incidence/data/mrs_per_category.xlsx'",
   "id": "7097a40ff499d02f",
   "outputs": [],
   "execution_count": null
  },
  {
   "metadata": {},
   "cell_type": "code",
   "source": "df = pd.read_excel(data_path)",
   "id": "e0498aae529b1448",
   "outputs": [],
   "execution_count": null
  },
  {
   "metadata": {},
   "cell_type": "code",
   "source": "df.shape",
   "id": "32722ef81c9b9f83",
   "outputs": [],
   "execution_count": null
  },
  {
   "metadata": {},
   "cell_type": "code",
   "source": [
    "dft = df.T\n",
    "# remove first row\n",
    "dft = dft.iloc[1:, :]"
   ],
   "id": "b77e819701793011",
   "outputs": [],
   "execution_count": null
  },
  {
   "metadata": {},
   "cell_type": "code",
   "source": [
    "hex_colors = ['#dfe9f5', '#bfd3eb', '#8ec0e3', '#0093c9', '#2a7aaf', '#1e558e', '#153659']\n",
    "palette = sns.color_palette(hex_colors)"
   ],
   "id": "1d5339e0d14066f4",
   "outputs": [],
   "execution_count": null
  },
  {
   "metadata": {},
   "cell_type": "code",
   "source": "palette",
   "id": "39d1d95775ccf9ea",
   "outputs": [],
   "execution_count": null
  },
  {
   "metadata": {},
   "cell_type": "code",
   "source": [
    "plot_text_labels = True\n",
    "\n",
    "main_bar_width = 0.8\n",
    "small_bar_width = 0.5\n",
    "small_bar_tick_fontsize = 9\n",
    "\n",
    "fig, ax = plt.subplots(figsize = (10, 8))\n",
    "# Plot\n",
    "dft.plot.barh(stacked = True,\n",
    "            ax = ax,\n",
    "            # color = sns.color_palette(\"Blues\", 7),\n",
    "            color = palette,\n",
    "            width = main_bar_width)  \n",
    "\n",
    "# reduce height of selected bars\n",
    "for i in range(len(ax.patches)):\n",
    "    if i % 7 in [1, 4, 5]:\n",
    "        ax.patches[i].set_height(small_bar_width)\n",
    "        # move higher by 0.1\n",
    "        ax.patches[i].set_y(ax.patches[i].get_y() + 0.15)\n",
    "        \n",
    "# set y for each bar\n",
    "for i in range(len(ax.patches)):\n",
    "    if i % 7 == 0:\n",
    "        ax.patches[i].set_y(0 - main_bar_width/2)\n",
    "    elif i % 7 == 1:\n",
    "        ax.patches[i].set_y(1 - small_bar_width/2 + 0.15)\n",
    "    elif i % 7 == 2:\n",
    "        ax.patches[i].set_y(2 - main_bar_width/2)\n",
    "    elif i % 7 == 3:\n",
    "        ax.patches[i].set_y(3 - main_bar_width/2 + 0.3)\n",
    "    elif i % 7 == 4:\n",
    "        ax.patches[i].set_y(4 - small_bar_width/2 + 0.45)\n",
    "    elif i % 7 == 5:\n",
    "        ax.patches[i].set_y(5 - small_bar_width/2 + 0.15)\n",
    "    elif i % 7 == 6:\n",
    "        ax.patches[i].set_y(6 - main_bar_width/2)\n",
    "        \n",
    "# set y ticks\n",
    "yticks_labels = ax.get_yticklabels()\n",
    "ax.set_yticks([ax.patches[0].get_y() + main_bar_width/2,\n",
    "               ax.patches[1].get_y() + small_bar_width/2,\n",
    "                ax.patches[2].get_y() + main_bar_width/2,\n",
    "                ax.patches[3].get_y() + main_bar_width/2,\n",
    "                ax.patches[4].get_y() + small_bar_width/2,\n",
    "                ax.patches[5].get_y() + small_bar_width/2,\n",
    "                ax.patches[6].get_y() + main_bar_width/2],\n",
    "                )\n",
    "ax.set_yticklabels(yticks_labels)\n",
    "\n",
    "# for small bars, set y tick labels to small font\n",
    "for i in range(len(yticks_labels)):\n",
    "    if i in [1, 4, 5]:\n",
    "        yticks_labels[i].set_fontsize(small_bar_tick_fontsize)\n",
    "    \n",
    "# set legend position to right to graph\n",
    "plt.legend(loc='upper right', bbox_to_anchor=(1.1, 1), title = 'mRS')\n",
    "\n",
    "# turn off grid\n",
    "ax.grid(False)\n",
    "# turn off upper and right spines\n",
    "ax.spines['top'].set_visible(False)\n",
    "ax.spines['right'].set_visible(False)\n",
    "\n",
    "ax.set_xlabel('Percentage of patients')\n",
    "\n",
    "\n",
    "if plot_text_labels:\n",
    "    # Add percentage labels\n",
    "    for i in range(len(ax.patches)):\n",
    "        if i % 7 in [1, 4, 5]:\n",
    "            font_size = small_bar_tick_fontsize\n",
    "        else:\n",
    "            font_size = 12\n",
    "        \n",
    "        # if > 0\n",
    "        if ax.patches[i].get_width() > 0:\n",
    "            text_color = 'white'\n",
    "            # if mrs < 4, text_color = 'black'\n",
    "            if i < 3*7:\n",
    "                text_color = 'black'\n",
    "            # # if 0- 5%, set text label as vertical\n",
    "            # if ax.patches[i].get_width() < 5:\n",
    "            #     ax.text(ax.patches[i].get_width() / 2 + ax.patches[i].get_x(),\n",
    "            #             ax.patches[i].get_y() + ax.patches[i].get_height() / 2,\n",
    "            #             f'{ax.patches[i].get_width():.1f}%',\n",
    "            #             ha = 'center', va = 'center', color = 'black', rotation='vertical')\n",
    "            # else:\n",
    "            ax.text(ax.patches[i].get_width() / 2 + ax.patches[i].get_x(),\n",
    "                    ax.patches[i].get_y() + ax.patches[i].get_height() / 2,\n",
    "                    f'{ax.patches[i].get_width():.1f}%',\n",
    "                    ha = 'center', va = 'center', color = text_color, fontsize = font_size)\n",
    "                                                \n",
    "\n",
    "plt.show()\n",
    "\n",
    "\n"
   ],
   "id": "70dadb0fdd8978fd",
   "outputs": [],
   "execution_count": null
  },
  {
   "metadata": {},
   "cell_type": "code",
   "source": "# fig.savefig('/Users/jk1/Downloads/mrs_distribution.png', bbox_inches='tight', dpi = 600)",
   "id": "9435283535557f4c",
   "outputs": [],
   "execution_count": null
  },
  {
   "metadata": {},
   "cell_type": "code",
   "source": "",
   "id": "887f51689906acf2",
   "outputs": [],
   "execution_count": null
  }
 ],
 "metadata": {
  "kernelspec": {
   "display_name": "Python 3",
   "language": "python",
   "name": "python3"
  },
  "language_info": {
   "codemirror_mode": {
    "name": "ipython",
    "version": 2
   },
   "file_extension": ".py",
   "mimetype": "text/x-python",
   "name": "python",
   "nbconvert_exporter": "python",
   "pygments_lexer": "ipython2",
   "version": "2.7.6"
  }
 },
 "nbformat": 4,
 "nbformat_minor": 5
}

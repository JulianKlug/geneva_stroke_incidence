{
 "cells": [
  {
   "cell_type": "code",
   "id": "initial_id",
   "metadata": {
    "collapsed": true,
    "ExecuteTime": {
     "end_time": "2025-01-27T18:48:12.709878Z",
     "start_time": "2025-01-27T18:48:12.563155Z"
    }
   },
   "source": [
    "import pandas as pd\n",
    "from lifelines import KaplanMeierFitter\n",
    "from lifelines.plotting import add_at_risk_counts\n",
    "import matplotlib.pyplot as plt\n",
    "import matplotlib.transforms as transforms"
   ],
   "outputs": [],
   "execution_count": 1
  },
  {
   "metadata": {
    "ExecuteTime": {
     "end_time": "2025-01-27T18:48:12.717595Z",
     "start_time": "2025-01-27T18:48:12.714906Z"
    }
   },
   "cell_type": "code",
   "source": [
    "survival_data_path = '/Users/jk1/Library/CloudStorage/OneDrive-unige.ch/stroke_research/geneva_stroke_incidence/data/PPGSS_3_KM_R2.xlsx'\n",
    "# survival_data_path = '/Users/jk1/Library/CloudStorage/OneDrive-unige.ch/stroke_research/geneva_stroke_incidence/data/old/PPGSS_3_KM.xlsx'"
   ],
   "id": "e50a40711fbaebdb",
   "outputs": [],
   "execution_count": 2
  },
  {
   "metadata": {
    "ExecuteTime": {
     "end_time": "2025-01-27T18:48:12.979023Z",
     "start_time": "2025-01-27T18:48:12.790775Z"
    }
   },
   "cell_type": "code",
   "source": "survival_df = pd.read_excel(survival_data_path)",
   "id": "427e97fa443d6579",
   "outputs": [],
   "execution_count": 3
  },
  {
   "metadata": {
    "ExecuteTime": {
     "end_time": "2025-01-27T18:48:12.994687Z",
     "start_time": "2025-01-27T18:48:12.989128Z"
    }
   },
   "cell_type": "code",
   "source": "survival_df.shape",
   "id": "b9d50ce4e8b2b866",
   "outputs": [
    {
     "data": {
      "text/plain": [
       "(1186, 4)"
      ]
     },
     "execution_count": 4,
     "metadata": {},
     "output_type": "execute_result"
    }
   ],
   "execution_count": 4
  },
  {
   "metadata": {
    "ExecuteTime": {
     "end_time": "2025-01-27T18:48:13.082789Z",
     "start_time": "2025-01-27T18:48:13.068652Z"
    }
   },
   "cell_type": "code",
   "source": "survival_df",
   "id": "dcee24c78177f0c5",
   "outputs": [
    {
     "data": {
      "text/plain": [
       "      Colonne2                          Type of event  Mortality_90d  \\\n",
       "0            1                        Ischemic stroke            1.0   \n",
       "1            2               Intracerebral hemorrhage            1.0   \n",
       "2            3               Intracerebral hemorrhage            1.0   \n",
       "3            4  Non-traumatic subarachnoid hemorrhage            1.0   \n",
       "4            5  Non-traumatic subarachnoid hemorrhage            1.0   \n",
       "...        ...                                    ...            ...   \n",
       "1181      1182                        Ischemic stroke            0.0   \n",
       "1182      1183               Intracerebral hemorrhage            0.0   \n",
       "1183      1184                        Ischemic stroke            0.0   \n",
       "1184      1185                        Ischemic stroke            0.0   \n",
       "1185      1186                        Ischemic stroke            NaN   \n",
       "\n",
       "      DeathIntervalpostonset_90d  \n",
       "0                            0.0  \n",
       "1                            0.0  \n",
       "2                            0.0  \n",
       "3                            0.0  \n",
       "4                            0.0  \n",
       "...                          ...  \n",
       "1181                        90.0  \n",
       "1182                        90.0  \n",
       "1183                        90.0  \n",
       "1184                        90.0  \n",
       "1185                         NaN  \n",
       "\n",
       "[1186 rows x 4 columns]"
      ],
      "text/html": [
       "<div>\n",
       "<style scoped>\n",
       "    .dataframe tbody tr th:only-of-type {\n",
       "        vertical-align: middle;\n",
       "    }\n",
       "\n",
       "    .dataframe tbody tr th {\n",
       "        vertical-align: top;\n",
       "    }\n",
       "\n",
       "    .dataframe thead th {\n",
       "        text-align: right;\n",
       "    }\n",
       "</style>\n",
       "<table border=\"1\" class=\"dataframe\">\n",
       "  <thead>\n",
       "    <tr style=\"text-align: right;\">\n",
       "      <th></th>\n",
       "      <th>Colonne2</th>\n",
       "      <th>Type of event</th>\n",
       "      <th>Mortality_90d</th>\n",
       "      <th>DeathIntervalpostonset_90d</th>\n",
       "    </tr>\n",
       "  </thead>\n",
       "  <tbody>\n",
       "    <tr>\n",
       "      <th>0</th>\n",
       "      <td>1</td>\n",
       "      <td>Ischemic stroke</td>\n",
       "      <td>1.0</td>\n",
       "      <td>0.0</td>\n",
       "    </tr>\n",
       "    <tr>\n",
       "      <th>1</th>\n",
       "      <td>2</td>\n",
       "      <td>Intracerebral hemorrhage</td>\n",
       "      <td>1.0</td>\n",
       "      <td>0.0</td>\n",
       "    </tr>\n",
       "    <tr>\n",
       "      <th>2</th>\n",
       "      <td>3</td>\n",
       "      <td>Intracerebral hemorrhage</td>\n",
       "      <td>1.0</td>\n",
       "      <td>0.0</td>\n",
       "    </tr>\n",
       "    <tr>\n",
       "      <th>3</th>\n",
       "      <td>4</td>\n",
       "      <td>Non-traumatic subarachnoid hemorrhage</td>\n",
       "      <td>1.0</td>\n",
       "      <td>0.0</td>\n",
       "    </tr>\n",
       "    <tr>\n",
       "      <th>4</th>\n",
       "      <td>5</td>\n",
       "      <td>Non-traumatic subarachnoid hemorrhage</td>\n",
       "      <td>1.0</td>\n",
       "      <td>0.0</td>\n",
       "    </tr>\n",
       "    <tr>\n",
       "      <th>...</th>\n",
       "      <td>...</td>\n",
       "      <td>...</td>\n",
       "      <td>...</td>\n",
       "      <td>...</td>\n",
       "    </tr>\n",
       "    <tr>\n",
       "      <th>1181</th>\n",
       "      <td>1182</td>\n",
       "      <td>Ischemic stroke</td>\n",
       "      <td>0.0</td>\n",
       "      <td>90.0</td>\n",
       "    </tr>\n",
       "    <tr>\n",
       "      <th>1182</th>\n",
       "      <td>1183</td>\n",
       "      <td>Intracerebral hemorrhage</td>\n",
       "      <td>0.0</td>\n",
       "      <td>90.0</td>\n",
       "    </tr>\n",
       "    <tr>\n",
       "      <th>1183</th>\n",
       "      <td>1184</td>\n",
       "      <td>Ischemic stroke</td>\n",
       "      <td>0.0</td>\n",
       "      <td>90.0</td>\n",
       "    </tr>\n",
       "    <tr>\n",
       "      <th>1184</th>\n",
       "      <td>1185</td>\n",
       "      <td>Ischemic stroke</td>\n",
       "      <td>0.0</td>\n",
       "      <td>90.0</td>\n",
       "    </tr>\n",
       "    <tr>\n",
       "      <th>1185</th>\n",
       "      <td>1186</td>\n",
       "      <td>Ischemic stroke</td>\n",
       "      <td>NaN</td>\n",
       "      <td>NaN</td>\n",
       "    </tr>\n",
       "  </tbody>\n",
       "</table>\n",
       "<p>1186 rows × 4 columns</p>\n",
       "</div>"
      ]
     },
     "execution_count": 5,
     "metadata": {},
     "output_type": "execute_result"
    }
   ],
   "execution_count": 5
  },
  {
   "metadata": {
    "ExecuteTime": {
     "end_time": "2025-01-27T18:48:13.169210Z",
     "start_time": "2025-01-27T18:48:13.163746Z"
    }
   },
   "cell_type": "code",
   "source": [
    "# set 'DeathIntervalpostonset_90d' to 0.1 if 'DeathIntervalpostonset_90d' is 0\n",
    "survival_df['DeathIntervalpostonset_90d'] = survival_df['DeathIntervalpostonset_90d'].apply(lambda x: 0.1 if x == 0 else x)"
   ],
   "id": "4257bc277c67983f",
   "outputs": [],
   "execution_count": 6
  },
  {
   "metadata": {
    "ExecuteTime": {
     "end_time": "2025-01-27T18:48:13.498378Z",
     "start_time": "2025-01-27T18:48:13.491823Z"
    }
   },
   "cell_type": "code",
   "source": "survival_df['Type of event'].unique()",
   "id": "c90cc98cc56bf731",
   "outputs": [
    {
     "data": {
      "text/plain": [
       "array(['Ischemic stroke', 'Intracerebral hemorrhage',\n",
       "       'Non-traumatic subarachnoid hemorrhage', 'Unknown'], dtype=object)"
      ]
     },
     "execution_count": 7,
     "metadata": {},
     "output_type": "execute_result"
    }
   ],
   "execution_count": 7
  },
  {
   "metadata": {},
   "cell_type": "markdown",
   "source": "Compute Kaplan Meier estimates",
   "id": "6c3711d0f3cf484f"
  },
  {
   "metadata": {
    "ExecuteTime": {
     "end_time": "2025-01-27T18:48:14.191273Z",
     "start_time": "2025-01-27T18:48:14.144037Z"
    }
   },
   "cell_type": "code",
   "source": [
    "no_nan_survival_df = survival_df.dropna(subset=[\"DeathIntervalpostonset_90d\", \"Mortality_90d\"])\n",
    "\n",
    "# ICH\n",
    "ICH_df = no_nan_survival_df[no_nan_survival_df['Type of event'] == 'Intracerebral hemorrhage']\n",
    "ICH_kmf = KaplanMeierFitter()\n",
    "ICH_kmf.fit(ICH_df[\"DeathIntervalpostonset_90d\"], event_observed=ICH_df[\"Mortality_90d\"])\n",
    "\n",
    "# AIS\n",
    "AIS_df = no_nan_survival_df[no_nan_survival_df['Type of event'] == 'Ischemic stroke']\n",
    "AIS_kmf = KaplanMeierFitter()\n",
    "AIS_kmf.fit(AIS_df[\"DeathIntervalpostonset_90d\"], event_observed=AIS_df[\"Mortality_90d\"])\n",
    "\n",
    "# SAH\n",
    "SAH_df = no_nan_survival_df[no_nan_survival_df['Type of event'] == 'Non-traumatic subarachnoid hemorrhage']\n",
    "SAH_kmf = KaplanMeierFitter()\n",
    "SAH_kmf.fit(SAH_df[\"DeathIntervalpostonset_90d\"], event_observed=SAH_df[\"Mortality_90d\"])"
   ],
   "id": "97717950f4d819f",
   "outputs": [
    {
     "data": {
      "text/plain": [
       "<lifelines.KaplanMeierFitter:\"KM_estimate\", fitted with 58 total observations, 48 right-censored observations>"
      ]
     },
     "execution_count": 8,
     "metadata": {},
     "output_type": "execute_result"
    }
   ],
   "execution_count": 8
  },
  {
   "metadata": {},
   "cell_type": "markdown",
   "source": "Stats",
   "id": "dd40cae41deb51ae"
  },
  {
   "metadata": {
    "ExecuteTime": {
     "end_time": "2025-01-27T18:48:18.226610Z",
     "start_time": "2025-01-27T18:48:18.185918Z"
    }
   },
   "cell_type": "code",
   "source": [
    "from lifelines.statistics import multivariate_logrank_test\n",
    "\n",
    "result = multivariate_logrank_test(no_nan_survival_df['DeathIntervalpostonset_90d'], no_nan_survival_df['Type of event'], no_nan_survival_df['Mortality_90d'])\n",
    "result.test_statistic, result.p_value"
   ],
   "id": "6d9ba4d759094605",
   "outputs": [
    {
     "data": {
      "text/plain": [
       "(np.float64(188.6302148475123), np.float64(1.2064221473295187e-40))"
      ]
     },
     "execution_count": 9,
     "metadata": {},
     "output_type": "execute_result"
    }
   ],
   "execution_count": 9
  },
  {
   "metadata": {
    "ExecuteTime": {
     "end_time": "2025-01-27T18:48:19.804226Z",
     "start_time": "2025-01-27T18:48:19.714181Z"
    }
   },
   "cell_type": "code",
   "source": "result.print_summary()\n",
   "id": "4490dba27f681417",
   "outputs": [
    {
     "data": {
      "text/plain": [
       "<lifelines.StatisticalResult: multivariate_logrank_test>\n",
       "               t_0 = -1\n",
       " null_distribution = chi squared\n",
       "degrees_of_freedom = 3\n",
       "         test_name = multivariate_logrank_test\n",
       "\n",
       "---\n",
       " test_statistic      p  -log2(p)\n",
       "         188.63 <0.005    132.61"
      ],
      "text/html": [
       "<div>\n",
       "<style scoped>\n",
       "    .dataframe tbody tr th:only-of-type {\n",
       "        vertical-align: middle;\n",
       "    }\n",
       "\n",
       "    .dataframe tbody tr th {\n",
       "        vertical-align: top;\n",
       "    }\n",
       "\n",
       "    .dataframe thead th {\n",
       "        text-align: right;\n",
       "    }\n",
       "</style>\n",
       "<table border=\"1\" class=\"dataframe\">\n",
       "  <tbody>\n",
       "    <tr>\n",
       "      <th>t_0</th>\n",
       "      <td>-1</td>\n",
       "    </tr>\n",
       "    <tr>\n",
       "      <th>null_distribution</th>\n",
       "      <td>chi squared</td>\n",
       "    </tr>\n",
       "    <tr>\n",
       "      <th>degrees_of_freedom</th>\n",
       "      <td>3</td>\n",
       "    </tr>\n",
       "    <tr>\n",
       "      <th>test_name</th>\n",
       "      <td>multivariate_logrank_test</td>\n",
       "    </tr>\n",
       "  </tbody>\n",
       "</table>\n",
       "</div><table border=\"1\" class=\"dataframe\">\n",
       "  <thead>\n",
       "    <tr style=\"text-align: right;\">\n",
       "      <th></th>\n",
       "      <th>test_statistic</th>\n",
       "      <th>p</th>\n",
       "      <th>-log2(p)</th>\n",
       "    </tr>\n",
       "  </thead>\n",
       "  <tbody>\n",
       "    <tr>\n",
       "      <th>0</th>\n",
       "      <td>188.63</td>\n",
       "      <td>&lt;0.005</td>\n",
       "      <td>132.61</td>\n",
       "    </tr>\n",
       "  </tbody>\n",
       "</table>"
      ],
      "text/latex": "\\begin{tabular}{lrrr}\n & test_statistic & p & -log2(p) \\\\\n0 & 188.63 & 0.00 & 132.61 \\\\\n\\end{tabular}\n"
     },
     "metadata": {},
     "output_type": "display_data"
    }
   ],
   "execution_count": 10
  },
  {
   "metadata": {},
   "cell_type": "markdown",
   "source": "Figure",
   "id": "c9dafc6f861219c3"
  },
  {
   "metadata": {
    "ExecuteTime": {
     "end_time": "2025-01-27T18:48:21.697386Z",
     "start_time": "2025-01-27T18:48:21.144233Z"
    }
   },
   "cell_type": "code",
   "source": [
    "fig, ax = plt.subplots(1, 1)\n",
    "\n",
    "AIS_label = 'Ischemic stroke'\n",
    "AIS_color = '#5a7a8c'\n",
    "AIS_kmf.plot(ax=ax, color=AIS_color, ci_show=False, label=AIS_label)\n",
    "\n",
    "SAH_label = 'Subarachnoid hemorrhage'\n",
    "SAH_color = '#95BF8F'\n",
    "SAH_kmf.plot(ax=ax, color=SAH_color, ci_show=False, label=SAH_label)\n",
    "\n",
    "ICH_label = 'Intracerebral hemorrhage'\n",
    "ICH_color = '#b32f1e'\n",
    "ICH_kmf.plot(ax=ax, color=ICH_color, ci_show=False, label=ICH_label)\n",
    "\n",
    "# remove upper and right spine\n",
    "ax.spines['top'].set_visible(False)\n",
    "ax.spines['right'].set_visible(False)\n",
    "\n",
    "# Set axes\n",
    "ax.set_ylim(0, 1)\n",
    "ax.set_xlim(0, 90)\n",
    "\n",
    "ax.set_xticks([0, 15, 30, 45, 60, 75, 89])\n",
    "ax.set_yticks([0, 0.2, 0.4, 0.6, 0.8, 1])\n",
    "ax.set_yticklabels(['0', '20', '40', '60', '80', '100'])\n",
    "# show y ticks\n",
    "ax.yaxis.set_ticks_position('left')\n",
    "\n",
    "ax.set_ylabel('Survival rate (%)', fontdict={'fontweight': 'bold'})\n",
    "ax.set_xlabel('Days', fontdict={'fontweight': 'bold'})\n",
    "\n",
    "# Set legend\n",
    "ax.legend(loc='lower right', frameon=False)\n",
    "\n",
    "# Add at risk counts\n",
    "short_AIS_label = 'IS'\n",
    "short_SAH_label = 'SAH'\n",
    "short_ICH_label = 'ICH'\n",
    "add_at_risk_counts(AIS_kmf, SAH_kmf, ICH_kmf, labels=[short_AIS_label, short_SAH_label, short_ICH_label], rows_to_show=['At risk'],\n",
    "                     ax=ax)\n",
    "# change back xticks (last one is not counted otherwise)\n",
    "ax.set_xticks([0, 15, 30, 45, 60, 75, 90])\n",
    "\n",
    "\n",
    "# Update at risk count first column\n",
    "at_risk_count_ax = fig.axes[-1]\n",
    "at_risk_count_labels = at_risk_count_ax.get_xticklabels()\n",
    "# remove labels in firs row\n",
    "updated_at_risk_count_labels = [label.get_text()\n",
    "                                    .replace('At risk', '')\n",
    "                                    .replace(short_AIS_label, '')\n",
    "                                    .replace(short_SAH_label, '')\n",
    "                                    .replace(short_ICH_label, '')\n",
    "                                    .replace(' ', '')\n",
    "                                for label in at_risk_count_labels]\n",
    "updated_at_risk_count_labels = updated_at_risk_count_labels\n",
    "at_risk_count_ax.set_xticks(at_risk_count_ax.get_xticks().tolist()[:-1] + [at_risk_count_ax.get_xticks()[-1] + 1])\n",
    "at_risk_count_ax.set_xticklabels(updated_at_risk_count_labels, ha='center')\n",
    "\n",
    "# add first row\n",
    "trans = transforms.blended_transform_factory(transforms.IdentityTransform(), at_risk_count_ax.transAxes)\n",
    "bb = at_risk_count_ax.xaxis.majorTicks[0].label1.get_window_extent()\n",
    "at_risk_first_row = (r\"$\\bf{\" + \"No.\" + \"}$\" + \" \" + r\"$\\bf{\" + \"at\" + \"}$\" + \" \" + r\"$\\bf{\" + \"risk\" + \"}$\" \n",
    "                     + f'\\n{short_AIS_label}\\n{short_SAH_label}\\n{short_ICH_label}')\n",
    "# if full label\n",
    "# at_risk_count_ax.text(-1, -0.390, at_risk_first_row,ha='left', transform=trans)\n",
    "\n",
    "# if short label\n",
    "at_risk_count_ax.text(0, -0.390, at_risk_first_row,ha='left', transform=trans)\n",
    "\n",
    "# add margin to the left of the plot\n",
    "plt.subplots_adjust(left=0.12, right=0.85)\n",
    "\n",
    "# turn off grid\n",
    "ax.grid(False)\n",
    "at_risk_count_ax.grid(False)\n",
    "\n",
    "# x and y axis in black\n",
    "ax.spines['bottom'].set_color('black')\n",
    "ax.spines['left'].set_color('black')\n",
    "\n",
    "plt.tight_layout()"
   ],
   "id": "c7fe91455199ad75",
   "outputs": [
    {
     "data": {
      "text/plain": [
       "<Figure size 640x480 with 2 Axes>"
      ],
      "image/png": "[encoded data removed]"
     },
     "metadata": {},
     "output_type": "display_data"
    }
   ],
   "execution_count": 11
  },
  {
   "metadata": {
    "ExecuteTime": {
     "end_time": "2025-01-27T18:48:33.394073Z",
     "start_time": "2025-01-27T18:48:33.038088Z"
    }
   },
   "cell_type": "code",
   "source": "# fig.savefig('/Users/jk1/Downloads/kaplan_meier.pdf', dpi=600, bbox_inches='tight')",
   "id": "f84c7c44ea016ce6",
   "outputs": [],
   "execution_count": 13
  },
  {
   "metadata": {},
   "cell_type": "code",
   "source": "",
   "id": "270cded4acf7b4b0",
   "outputs": [],
   "execution_count": null
  }
 ],
 "metadata": {
  "kernelspec": {
   "display_name": "Python 3",
   "language": "python",
   "name": "python3"
  },
  "language_info": {
   "codemirror_mode": {
    "name": "ipython",
    "version": 2
   },
   "file_extension": ".py",
   "mimetype": "text/x-python",
   "name": "python",
   "nbconvert_exporter": "python",
   "pygments_lexer": "ipython2",
   "version": "2.7.6"
  }
 },
 "nbformat": 4,
 "nbformat_minor": 5
}

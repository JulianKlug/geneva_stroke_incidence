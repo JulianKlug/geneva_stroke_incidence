{
 "cells": [
  {
   "cell_type": "code",
   "id": "initial_id",
   "metadata": {
    "collapsed": true
   },
   "source": [
    "import pandas as pd\n",
    "from lifelines import KaplanMeierFitter\n",
    "from lifelines.plotting import add_at_risk_counts\n",
    "import matplotlib.pyplot as plt\n",
    "import matplotlib.transforms as transforms"
   ],
   "outputs": [],
   "execution_count": null
  },
  {
   "metadata": {},
   "cell_type": "code",
   "source": [
    "survival_data_path = '/Users/jk1/Library/CloudStorage/OneDrive-unige.ch/stroke_research/geneva_stroke_incidence/data/PPGSS_3_KM_R2.xlsx'\n",
    "# survival_data_path = '/Users/jk1/Library/CloudStorage/OneDrive-unige.ch/stroke_research/geneva_stroke_incidence/data/old/PPGSS_3_KM.xlsx'"
   ],
   "id": "e50a40711fbaebdb",
   "outputs": [],
   "execution_count": null
  },
  {
   "metadata": {},
   "cell_type": "code",
   "source": "survival_df = pd.read_excel(survival_data_path)",
   "id": "427e97fa443d6579",
   "outputs": [],
   "execution_count": null
  },
  {
   "metadata": {},
   "cell_type": "code",
   "source": "survival_df.shape",
   "id": "b9d50ce4e8b2b866",
   "outputs": [],
   "execution_count": null
  },
  {
   "metadata": {},
   "cell_type": "code",
   "source": "survival_df",
   "id": "dcee24c78177f0c5",
   "outputs": [],
   "execution_count": null
  },
  {
   "metadata": {},
   "cell_type": "code",
   "source": [
    "# set 'DeathIntervalpostonset_90d' to 0.1 if 'DeathIntervalpostonset_90d' is 0\n",
    "survival_df['DeathIntervalpostonset_90d'] = survival_df['DeathIntervalpostonset_90d'].apply(lambda x: 0.1 if x == 0 else x)"
   ],
   "id": "4257bc277c67983f",
   "outputs": [],
   "execution_count": null
  },
  {
   "metadata": {},
   "cell_type": "code",
   "source": "survival_df['Type of event'].unique()",
   "id": "c90cc98cc56bf731",
   "outputs": [],
   "execution_count": null
  },
  {
   "metadata": {},
   "cell_type": "markdown",
   "source": "Compute Kaplan Meier estimates",
   "id": "6c3711d0f3cf484f"
  },
  {
   "metadata": {},
   "cell_type": "code",
   "source": [
    "no_nan_survival_df = survival_df.dropna(subset=[\"DeathIntervalpostonset_90d\", \"Mortality_90d\"])\n",
    "\n",
    "# ICH\n",
    "ICH_df = no_nan_survival_df[no_nan_survival_df['Type of event'] == 'Intracerebral hemorrhage']\n",
    "ICH_kmf = KaplanMeierFitter()\n",
    "ICH_kmf.fit(ICH_df[\"DeathIntervalpostonset_90d\"], event_observed=ICH_df[\"Mortality_90d\"])\n",
    "\n",
    "# AIS\n",
    "AIS_df = no_nan_survival_df[no_nan_survival_df['Type of event'] == 'Ischemic stroke']\n",
    "AIS_kmf = KaplanMeierFitter()\n",
    "AIS_kmf.fit(AIS_df[\"DeathIntervalpostonset_90d\"], event_observed=AIS_df[\"Mortality_90d\"])\n",
    "\n",
    "# SAH\n",
    "SAH_df = no_nan_survival_df[no_nan_survival_df['Type of event'] == 'Non-traumatic subarachnoid hemorrhage']\n",
    "SAH_kmf = KaplanMeierFitter()\n",
    "SAH_kmf.fit(SAH_df[\"DeathIntervalpostonset_90d\"], event_observed=SAH_df[\"Mortality_90d\"])"
   ],
   "id": "97717950f4d819f",
   "outputs": [],
   "execution_count": null
  },
  {
   "metadata": {},
   "cell_type": "markdown",
   "source": "Stats",
   "id": "dd40cae41deb51ae"
  },
  {
   "metadata": {},
   "cell_type": "code",
   "source": [
    "from lifelines.statistics import multivariate_logrank_test\n",
    "\n",
    "result = multivariate_logrank_test(no_nan_survival_df['DeathIntervalpostonset_90d'], no_nan_survival_df['Type of event'], no_nan_survival_df['Mortality_90d'])\n",
    "result.test_statistic, result.p_value"
   ],
   "id": "6d9ba4d759094605",
   "outputs": [],
   "execution_count": null
  },
  {
   "metadata": {},
   "cell_type": "code",
   "source": "result.print_summary()\n",
   "id": "4490dba27f681417",
   "outputs": [],
   "execution_count": null
  },
  {
   "metadata": {},
   "cell_type": "markdown",
   "source": "Figure",
   "id": "c9dafc6f861219c3"
  },
  {
   "metadata": {},
   "cell_type": "code",
   "source": [
    "fig, ax = plt.subplots(1, 1)\n",
    "\n",
    "AIS_label = 'Ischemic stroke'\n",
    "AIS_color = '#5a7a8c'\n",
    "AIS_kmf.plot(ax=ax, color=AIS_color, ci_show=False, label=AIS_label)\n",
    "\n",
    "SAH_label = 'Subarachnoid hemorrhage'\n",
    "SAH_color = '#95BF8F'\n",
    "SAH_kmf.plot(ax=ax, color=SAH_color, ci_show=False, label=SAH_label)\n",
    "\n",
    "ICH_label = 'Intracerebral hemorrhage'\n",
    "ICH_color = '#b32f1e'\n",
    "ICH_kmf.plot(ax=ax, color=ICH_color, ci_show=False, label=ICH_label)\n",
    "\n",
    "# remove upper and right spine\n",
    "ax.spines['top'].set_visible(False)\n",
    "ax.spines['right'].set_visible(False)\n",
    "\n",
    "# Set axes\n",
    "ax.set_ylim(0, 1)\n",
    "ax.set_xlim(0, 90)\n",
    "\n",
    "ax.set_xticks([0, 15, 30, 45, 60, 75, 89])\n",
    "ax.set_yticks([0, 0.2, 0.4, 0.6, 0.8, 1])\n",
    "ax.set_yticklabels(['0', '20', '40', '60', '80', '100'])\n",
    "# show y ticks\n",
    "ax.yaxis.set_ticks_position('left')\n",
    "\n",
    "ax.set_ylabel('Survival rate (%)', fontdict={'fontweight': 'bold'})\n",
    "ax.set_xlabel('Days', fontdict={'fontweight': 'bold'})\n",
    "\n",
    "# Set legend\n",
    "ax.legend(loc='lower right', frameon=False)\n",
    "\n",
    "# Add at risk counts\n",
    "short_AIS_label = 'IS'\n",
    "short_SAH_label = 'SAH'\n",
    "short_ICH_label = 'ICH'\n",
    "add_at_risk_counts(AIS_kmf, SAH_kmf, ICH_kmf, labels=[short_AIS_label, short_SAH_label, short_ICH_label], rows_to_show=['At risk'],\n",
    "                     ax=ax)\n",
    "# change back xticks (last one is not counted otherwise)\n",
    "ax.set_xticks([0, 15, 30, 45, 60, 75, 90])\n",
    "\n",
    "\n",
    "# Update at risk count first column\n",
    "at_risk_count_ax = fig.axes[-1]\n",
    "at_risk_count_labels = at_risk_count_ax.get_xticklabels()\n",
    "# remove labels in firs row\n",
    "updated_at_risk_count_labels = [label.get_text()\n",
    "                                    .replace('At risk', '')\n",
    "                                    .replace(short_AIS_label, '')\n",
    "                                    .replace(short_SAH_label, '')\n",
    "                                    .replace(short_ICH_label, '')\n",
    "                                    .replace(' ', '')\n",
    "                                for label in at_risk_count_labels]\n",
    "updated_at_risk_count_labels = updated_at_risk_count_labels\n",
    "at_risk_count_ax.set_xticks(at_risk_count_ax.get_xticks().tolist()[:-1] + [at_risk_count_ax.get_xticks()[-1] + 1])\n",
    "at_risk_count_ax.set_xticklabels(updated_at_risk_count_labels, ha='center')\n",
    "\n",
    "# add first row\n",
    "trans = transforms.blended_transform_factory(transforms.IdentityTransform(), at_risk_count_ax.transAxes)\n",
    "bb = at_risk_count_ax.xaxis.majorTicks[0].label1.get_window_extent()\n",
    "at_risk_first_row = (r\"$\\bf{\" + \"No.\" + \"}$\" + \" \" + r\"$\\bf{\" + \"at\" + \"}$\" + \" \" + r\"$\\bf{\" + \"risk\" + \"}$\" \n",
    "                     + f'\\n{short_AIS_label}\\n{short_SAH_label}\\n{short_ICH_label}')\n",
    "# if full label\n",
    "# at_risk_count_ax.text(-1, -0.390, at_risk_first_row,ha='left', transform=trans)\n",
    "\n",
    "# if short label\n",
    "at_risk_count_ax.text(0, -0.390, at_risk_first_row,ha='left', transform=trans)\n",
    "\n",
    "# add margin to the left of the plot\n",
    "plt.subplots_adjust(left=0.12, right=0.85)\n",
    "\n",
    "# turn off grid\n",
    "ax.grid(False)\n",
    "at_risk_count_ax.grid(False)\n",
    "\n",
    "# x and y axis in black\n",
    "ax.spines['bottom'].set_color('black')\n",
    "ax.spines['left'].set_color('black')\n",
    "\n",
    "plt.tight_layout()"
   ],
   "id": "c7fe91455199ad75",
   "outputs": [],
   "execution_count": null
  },
  {
   "metadata": {},
   "cell_type": "code",
   "source": "# fig.savefig('/Users/jk1/Downloads/kaplan_meier.png', dpi=600, bbox_inches='tight')",
   "id": "f84c7c44ea016ce6",
   "outputs": [],
   "execution_count": null
  },
  {
   "metadata": {},
   "cell_type": "code",
   "source": "",
   "id": "270cded4acf7b4b0",
   "outputs": [],
   "execution_count": null
  }
 ],
 "metadata": {
  "kernelspec": {
   "display_name": "Python 3",
   "language": "python",
   "name": "python3"
  },
  "language_info": {
   "codemirror_mode": {
    "name": "ipython",
    "version": 2
   },
   "file_extension": ".py",
   "mimetype": "text/x-python",
   "name": "python",
   "nbconvert_exporter": "python",
   "pygments_lexer": "ipython2",
   "version": "2.7.6"
  }
 },
 "nbformat": 4,
 "nbformat_minor": 5
}
